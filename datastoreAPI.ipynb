{
  "nbformat": 4,
  "nbformat_minor": 0,
  "metadata": {
    "colab": {
      "name": "datastoreAPI.ipynb",
      "version": "0.3.2",
      "provenance": [],
      "include_colab_link": true
    },
    "kernelspec": {
      "name": "python3",
      "display_name": "Python 3"
    }
  },
  "cells": [
    {
      "cell_type": "markdown",
      "metadata": {
        "id": "view-in-github",
        "colab_type": "text"
      },
      "source": [
        "<a href=\"https://colab.research.google.com/github/iampawanpoojary/datastoreAPI/blob/master/datastoreAPI.ipynb\" target=\"_parent\"><img src=\"https://colab.research.google.com/assets/colab-badge.svg\" alt=\"Open In Colab\"/></a>"
      ]
    },
    {
      "cell_type": "markdown",
      "metadata": {
        "id": "FGY6F693xwHd",
        "colab_type": "text"
      },
      "source": [
        "# **API requests**"
      ]
    },
    {
      "cell_type": "code",
      "metadata": {
        "id": "FiYvSZ5HyETg",
        "colab_type": "code",
        "colab": {}
      },
      "source": [
        "import requests\n",
        "import json\n",
        "import pandas as pd\n",
        "def api_call(url, paylooad):\n",
        "  headers = {'content-type': 'application/json'}\n",
        "  response = requests.post(url, data=json.dumps(payload), headers=headers)\n",
        "  return response.json()\n",
        "def api_get(url):\n",
        "  response = requests.get(url)\n",
        "  cust = response.json()\n",
        "  return cust\n"
      ],
      "execution_count": 0,
      "outputs": []
    },
    {
      "cell_type": "code",
      "metadata": {
        "id": "ZQgs1jOvtqVN",
        "colab_type": "code",
        "outputId": "e95ee109-d018-42a9-b3d2-21fbf7dde7a5",
        "colab": {
          "base_uri": "https://localhost:8080/",
          "height": 319
        }
      },
      "source": [
        "#getcustomer\n",
        "url = 'https://zimablue.appspot.com/getCustomers'\n",
        "api_get(url)"
      ],
      "execution_count": 0,
      "outputs": [
        {
          "output_type": "execute_result",
          "data": {
            "text/plain": [
              "{'customer_record': [{'account_number': '103',\n",
              "   'created_at': '2019-06-11T08:05:43.442680+00:00',\n",
              "   'firstname': 'george',\n",
              "   'id': 'agpzfnppbWFibHVlchULEghjdXN0b21lchiAgIDAl6SACgw',\n",
              "   'lastname': 'harrison',\n",
              "   'updated_at': '2019-06-11T08:05:43.442686+00:00'},\n",
              "  {'account_number': '103',\n",
              "   'created_at': '2019-06-11T08:27:47.602802+00:00',\n",
              "   'firstname': 'john',\n",
              "   'id': 'agpzfnppbWFibHVlchULEghjdXN0b21lchiAgICgpJWCCgw',\n",
              "   'lastname': 'lenon',\n",
              "   'updated_at': '2019-06-11T09:09:49.601027+00:00'},\n",
              "  {'account_number': '102',\n",
              "   'created_at': '2019-06-11T08:05:25.727470+00:00',\n",
              "   'firstname': 'ringo',\n",
              "   'id': 'agpzfnppbWFibHVlchULEghjdXN0b21lchiAgIDA1fmDCgw',\n",
              "   'lastname': 'starr',\n",
              "   'updated_at': '2019-06-11T08:05:25.727475+00:00'}]}"
            ]
          },
          "metadata": {
            "tags": []
          },
          "execution_count": 39
        }
      ]
    },
    {
      "cell_type": "code",
      "metadata": {
        "id": "nSOkaxNsw9nC",
        "colab_type": "code",
        "outputId": "a0b961c6-c5a6-40b2-ac27-afb55218fbc0",
        "colab": {
          "base_uri": "https://localhost:8080/",
          "height": 118
        }
      },
      "source": [
        "#getcustomerid\n",
        "url = 'https://zimablue.appspot.com/getCustomerId?id={\"agpzfnppbWFibHVlchULEghjdXN0b21lchiAgICgpJWCCgw\"}'\n",
        "api_get(url)"
      ],
      "execution_count": 0,
      "outputs": [
        {
          "output_type": "execute_result",
          "data": {
            "text/plain": [
              "{'account_number': '103',\n",
              " 'created_at': '2019-06-11T08:27:47.602802+00:00',\n",
              " 'firstname': 'john',\n",
              " 'id': 'agpzfnppbWFibHVlchULEghjdXN0b21lchiAgICgpJWCCgw',\n",
              " 'lastname': 'lenon',\n",
              " 'updated_at': '2019-06-11T09:09:49.601027+00:00'}"
            ]
          },
          "metadata": {
            "tags": []
          },
          "execution_count": 40
        }
      ]
    },
    {
      "cell_type": "code",
      "metadata": {
        "id": "-k_yx-WLxp6Z",
        "colab_type": "code",
        "colab": {}
      },
      "source": [
        "#create\n",
        "url = \"https://zimablue.appspot.com/createCustomer\"\n",
        "payload =  {\n",
        "  \"firstname\": \"lucifer\",\n",
        "  \"lastname\": \"morningstar\",\n",
        "  \"account_number\": \"666\"\n",
        "}\n",
        "df = api_call(url, payload)\n",
        "df "
      ],
      "execution_count": 0,
      "outputs": []
    },
    {
      "cell_type": "code",
      "metadata": {
        "id": "pCrIpeY4sGvs",
        "colab_type": "code",
        "outputId": "d9ede58f-4d0a-40b7-a4c9-bbffc52969c6",
        "colab": {
          "base_uri": "https://localhost:8080/",
          "height": 118
        }
      },
      "source": [
        "#update\n",
        "url = \"https://zimablue.appspot.com/updateCustomer\"\n",
        "payload =  {\n",
        "  \"firstname\": \"john\",\n",
        "  \"lastname\": \"lenon\",\n",
        "  \"account_number\": \"103\",\n",
        "  \"id\": \"agpzfnppbWFibHVlchULEghjdXN0b21lchiAgICgpJWCCgw\"\n",
        "}\n",
        "df = api_call(url, payload)\n",
        "df"
      ],
      "execution_count": 0,
      "outputs": [
        {
          "output_type": "execute_result",
          "data": {
            "text/plain": [
              "{'account_number': '103',\n",
              " 'created_at': '2019-06-11T08:27:47.602802+00:00',\n",
              " 'firstname': 'john',\n",
              " 'id': 'agpzfnppbWFibHVlchULEghjdXN0b21lchiAgICgpJWCCgw',\n",
              " 'lastname': 'lenon',\n",
              " 'updated_at': '2019-06-11T09:10:34.820325+00:00'}"
            ]
          },
          "metadata": {
            "tags": []
          },
          "execution_count": 41
        }
      ]
    },
    {
      "cell_type": "code",
      "metadata": {
        "id": "qQ0uFIEJvL-k",
        "colab_type": "code",
        "outputId": "f9c8ec31-9f1f-432f-a60f-6d9489aab1ab",
        "colab": {
          "base_uri": "https://localhost:8080/",
          "height": 34
        }
      },
      "source": [
        "#delete\n",
        "url = \"https://zimablue.appspot.com/deleteCustomer\"\n",
        "payload =  {\n",
        "  \"id\": \"agpzfnppbWFibHVlchULEghjdXN0b21lchiAgICAr_WECgw\"\n",
        "}\n",
        "api_call(url, payload)"
      ],
      "execution_count": 0,
      "outputs": [
        {
          "output_type": "execute_result",
          "data": {
            "text/plain": [
              "{'status': 'ok'}"
            ]
          },
          "metadata": {
            "tags": []
          },
          "execution_count": 42
        }
      ]
    },
    {
      "cell_type": "code",
      "metadata": {
        "id": "mXEm32DVxiAD",
        "colab_type": "code",
        "colab": {}
      },
      "source": [
        ""
      ],
      "execution_count": 0,
      "outputs": []
    },
    {
      "cell_type": "code",
      "metadata": {
        "id": "Vgx4GfEEyRZF",
        "colab_type": "code",
        "colab": {}
      },
      "source": [
        ""
      ],
      "execution_count": 0,
      "outputs": []
    }
  ]
}